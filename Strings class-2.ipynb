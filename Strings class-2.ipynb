{
 "cells": [
  {
   "cell_type": "code",
   "execution_count": 1,
   "id": "391379f2-b5c8-49a7-897c-ea929815f417",
   "metadata": {},
   "outputs": [
    {
     "name": "stdout",
     "output_type": "stream",
     "text": [
      "Welcome to string\n"
     ]
    }
   ],
   "source": [
    "str='Welcome to string'\n",
    "print(str)"
   ]
  },
  {
   "cell_type": "code",
   "execution_count": 2,
   "id": "88fc07ad-718b-4f3a-9097-8336131fd533",
   "metadata": {},
   "outputs": [
    {
     "name": "stdout",
     "output_type": "stream",
     "text": [
      "Welcome to string\n"
     ]
    }
   ],
   "source": [
    "str=\"Welcome to string\"\n",
    "print(str)"
   ]
  },
  {
   "cell_type": "code",
   "execution_count": 3,
   "id": "7989b209-6d4e-4553-82f9-27ebd1ee792a",
   "metadata": {},
   "outputs": [
    {
     "name": "stdout",
     "output_type": "stream",
     "text": [
      "Welcome to string\n"
     ]
    }
   ],
   "source": [
    "str=\"\"\"Welcome to string\"\"\"\n",
    "print(str)"
   ]
  },
  {
   "cell_type": "code",
   "execution_count": 4,
   "id": "802994a2-fa61-4a97-b6a4-49e7303fc6b3",
   "metadata": {},
   "outputs": [
    {
     "name": "stdout",
     "output_type": "stream",
     "text": [
      "e\n"
     ]
    }
   ],
   "source": [
    "a='Welcome to string'\n",
    "print(a[1])"
   ]
  },
  {
   "cell_type": "code",
   "execution_count": 5,
   "id": "23308d0b-5918-4c22-a86b-a4dc7171f42f",
   "metadata": {},
   "outputs": [
    {
     "name": "stdout",
     "output_type": "stream",
     "text": [
      "t\n"
     ]
    }
   ],
   "source": [
    "print(a[8])"
   ]
  },
  {
   "cell_type": "code",
   "execution_count": 6,
   "id": "b27ebdc6-a7aa-4f2d-bc01-db7770bc1630",
   "metadata": {},
   "outputs": [
    {
     "name": "stdout",
     "output_type": "stream",
     "text": [
      "s\n"
     ]
    }
   ],
   "source": [
    "print(a[11])"
   ]
  },
  {
   "cell_type": "code",
   "execution_count": 11,
   "id": "cba7d385-b3ea-440a-9811-084f2a4a08f3",
   "metadata": {},
   "outputs": [
    {
     "name": "stdout",
     "output_type": "stream",
     "text": [
      "d\n"
     ]
    }
   ],
   "source": [
    "a='Hello world'\n",
    "print(a[-1])"
   ]
  },
  {
   "cell_type": "code",
   "execution_count": 12,
   "id": "e05aef7a-e0d2-441f-8feb-4b90418b06ee",
   "metadata": {},
   "outputs": [
    {
     "name": "stdout",
     "output_type": "stream",
     "text": [
      "He\n"
     ]
    }
   ],
   "source": [
    "a='Hello world'\n",
    "print(a[:2])"
   ]
  },
  {
   "cell_type": "code",
   "execution_count": 13,
   "id": "18bbcb0f-d29f-460e-b9ea-ccb918c720d8",
   "metadata": {},
   "outputs": [
    {
     "name": "stdout",
     "output_type": "stream",
     "text": [
      "llo world\n"
     ]
    }
   ],
   "source": [
    "a='Hello world'\n",
    "print(a[2:])"
   ]
  },
  {
   "cell_type": "code",
   "execution_count": 15,
   "id": "4d2389fd-58a9-444a-8517-44a39c54bacc",
   "metadata": {},
   "outputs": [
    {
     "name": "stdout",
     "output_type": "stream",
     "text": [
      "Hello wor\n"
     ]
    }
   ],
   "source": [
    "a='Hello world'\n",
    "print(a[:-2])"
   ]
  },
  {
   "cell_type": "code",
   "execution_count": 16,
   "id": "6bdd3e72-e8df-4ec5-9d40-f3b2d10b9323",
   "metadata": {},
   "outputs": [
    {
     "name": "stdout",
     "output_type": "stream",
     "text": [
      "ld\n"
     ]
    }
   ],
   "source": [
    "a='Hello world'\n",
    "print(a[-2:])"
   ]
  },
  {
   "cell_type": "code",
   "execution_count": 17,
   "id": "73c6b535-7562-4b27-9b56-f8061f14c623",
   "metadata": {},
   "outputs": [
    {
     "name": "stdout",
     "output_type": "stream",
     "text": [
      "ell\n"
     ]
    }
   ],
   "source": [
    "str=\"Hello world\"\n",
    "print(str[1:4])"
   ]
  },
  {
   "cell_type": "code",
   "execution_count": 18,
   "id": "9de3ff04-0e5b-470f-a5fe-6134e4bfca57",
   "metadata": {},
   "outputs": [
    {
     "name": "stdout",
     "output_type": "stream",
     "text": [
      "ello wo\n"
     ]
    }
   ],
   "source": [
    "str=\"Hello world\"\n",
    "print(str[1:8])"
   ]
  },
  {
   "cell_type": "code",
   "execution_count": 19,
   "id": "3e0763a0-a64b-43c1-a455-934af4094e26",
   "metadata": {},
   "outputs": [
    {
     "name": "stdout",
     "output_type": "stream",
     "text": [
      "ello wo\n"
     ]
    }
   ],
   "source": [
    "str=\"Hello world\"\n",
    "print(str[1:-3])"
   ]
  },
  {
   "cell_type": "code",
   "execution_count": 20,
   "id": "07c616e4-c3fb-43f5-9bf1-1476d26d095f",
   "metadata": {},
   "outputs": [
    {
     "name": "stdout",
     "output_type": "stream",
     "text": [
      "dlrow olleH\n"
     ]
    }
   ],
   "source": [
    "str=\"Hello world\"\n",
    "print(str[::-1])"
   ]
  },
  {
   "cell_type": "code",
   "execution_count": 22,
   "id": "6591a0dd-452e-4dbe-9e22-596db2d73047",
   "metadata": {},
   "outputs": [
    {
     "name": "stdout",
     "output_type": "stream",
     "text": [
      "drwolH\n"
     ]
    }
   ],
   "source": [
    "str=\"Hello world\"\n",
    "print(str[::-2])"
   ]
  },
  {
   "cell_type": "code",
   "execution_count": 24,
   "id": "1c9f2355-9bfd-4d15-b718-2f473a92bc73",
   "metadata": {},
   "outputs": [
    {
     "name": "stdout",
     "output_type": "stream",
     "text": [
      "Hlowrd\n"
     ]
    }
   ],
   "source": [
    "str=\"Hello world\"\n",
    "print(str[::2])"
   ]
  },
  {
   "cell_type": "code",
   "execution_count": 25,
   "id": "37a55a25-f304-467c-95a6-667b475c3b86",
   "metadata": {},
   "outputs": [
    {
     "name": "stdout",
     "output_type": "stream",
     "text": [
      "llo world\n"
     ]
    }
   ],
   "source": [
    "str=\"Hello world\"\n",
    "print(str[2::])"
   ]
  },
  {
   "cell_type": "code",
   "execution_count": 26,
   "id": "2e63a301-9fee-43e8-bd04-61ba8800dff2",
   "metadata": {},
   "outputs": [
    {
     "name": "stdout",
     "output_type": "stream",
     "text": [
      "ld\n"
     ]
    }
   ],
   "source": [
    "str=\"Hello world\"\n",
    "print(str[-2::])"
   ]
  },
  {
   "cell_type": "code",
   "execution_count": 27,
   "id": "6840d5e8-794d-435e-9233-69e81bf4ad4f",
   "metadata": {},
   "outputs": [
    {
     "name": "stdout",
     "output_type": "stream",
     "text": [
      "dwl\n"
     ]
    }
   ],
   "source": [
    "str=\"Hello world\"\n",
    "print(str[::-4])"
   ]
  },
  {
   "cell_type": "code",
   "execution_count": 28,
   "id": "a66a19b9-5c5c-4f1f-a734-dfbb975c408f",
   "metadata": {},
   "outputs": [
    {
     "name": "stdout",
     "output_type": "stream",
     "text": [
      "Hlowrd\n"
     ]
    }
   ],
   "source": [
    "print(str[0:11:2])"
   ]
  },
  {
   "cell_type": "code",
   "execution_count": 31,
   "id": "b880cb72-d8b6-4e7e-bb16-6cce90b5812a",
   "metadata": {},
   "outputs": [
    {
     "data": {
      "text/plain": [
       "'chunnuchunnumunnu'"
      ]
     },
     "execution_count": 31,
     "metadata": {},
     "output_type": "execute_result"
    }
   ],
   "source": [
    "\n",
    "2*'chunnu'+'munnu'"
   ]
  },
  {
   "cell_type": "code",
   "execution_count": 34,
   "id": "5eebf50c-59f4-44c7-a0fd-c0bec6adf956",
   "metadata": {},
   "outputs": [
    {
     "data": {
      "text/plain": [
       "'py\"thon'"
      ]
     },
     "execution_count": 34,
     "metadata": {},
     "output_type": "execute_result"
    }
   ],
   "source": [
    "'py\"thon'"
   ]
  },
  {
   "cell_type": "code",
   "execution_count": 35,
   "id": "4264d842-809e-4132-b48a-39cf7e633fa1",
   "metadata": {},
   "outputs": [
    {
     "data": {
      "text/plain": [
       "'python'"
      ]
     },
     "execution_count": 35,
     "metadata": {},
     "output_type": "execute_result"
    }
   ],
   "source": [
    "'py''thon'"
   ]
  },
  {
   "cell_type": "code",
   "execution_count": 50,
   "id": "7d38bf90-3259-44fc-91e9-8e14390400e2",
   "metadata": {},
   "outputs": [
    {
     "name": "stdout",
     "output_type": "stream",
     "text": [
      "654\n"
     ]
    }
   ],
   "source": [
    "a=\"456\"\n",
    "print(a[::-1])"
   ]
  },
  {
   "cell_type": "code",
   "execution_count": null,
   "id": "07a39156-7a1a-4ce1-a30e-913b49e8e890",
   "metadata": {},
   "outputs": [],
   "source": []
  }
 ],
 "metadata": {
  "kernelspec": {
   "display_name": "Python 3 (ipykernel)",
   "language": "python",
   "name": "python3"
  },
  "language_info": {
   "codemirror_mode": {
    "name": "ipython",
    "version": 3
   },
   "file_extension": ".py",
   "mimetype": "text/x-python",
   "name": "python",
   "nbconvert_exporter": "python",
   "pygments_lexer": "ipython3",
   "version": "3.12.4"
  }
 },
 "nbformat": 4,
 "nbformat_minor": 5
}
