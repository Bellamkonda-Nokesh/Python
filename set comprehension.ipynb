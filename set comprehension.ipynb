{
 "cells": [
  {
   "cell_type": "code",
   "execution_count": 6,
   "id": "4d073e9c-0723-4781-882f-87966dfc8191",
   "metadata": {},
   "outputs": [
    {
     "name": "stdout",
     "output_type": "stream",
     "text": [
      "{0, 1, 4, 9, 16}\n"
     ]
    }
   ],
   "source": [
    "#create a set of squares of numbers from 0 to 4\n",
    "s={x**2 for x in range(5)}\n",
    "print(s)"
   ]
  },
  {
   "cell_type": "code",
   "execution_count": 3,
   "id": "f32159de-3183-4d24-8843-92f33082d7b8",
   "metadata": {},
   "outputs": [
    {
     "name": "stdout",
     "output_type": "stream",
     "text": [
      "{1, 4, 9, 16, 25}\n"
     ]
    }
   ],
   "source": [
    "#Creating a new set of squared values\n",
    "numbers=[1,2,3,4,5]\n",
    "squared_numbres={x**2 for x in numbers}\n",
    "print(squared_numbres)"
   ]
  },
  {
   "cell_type": "code",
   "execution_count": 5,
   "id": "5ba759d5-082a-4e4d-926c-133d13534752",
   "metadata": {},
   "outputs": [
    {
     "name": "stdout",
     "output_type": "stream",
     "text": [
      "{2, 4}\n"
     ]
    }
   ],
   "source": [
    "#create a set of squares, but only for even numbers\n",
    "num=[1,2,3,4,5]\n",
    "even_num={x for x in num if x%2==0}\n",
    "print(even_num)"
   ]
  },
  {
   "cell_type": "code",
   "execution_count": 7,
   "id": "7c783799-4c0c-4cdc-963d-9e9c4595d2bf",
   "metadata": {},
   "outputs": [
    {
     "name": "stdout",
     "output_type": "stream",
     "text": [
      "{'apple', 'banana', 'cherry'}\n"
     ]
    }
   ],
   "source": [
    "words=['apple','banana','cherry','lyn']\n",
    "vowels={'a','e','i','o','u'}\n",
    "vowel_words={word for word in words if any(letter in vowels for letter in word)}\n",
    "print(vowel_words)"
   ]
  },
  {
   "cell_type": "code",
   "execution_count": 9,
   "id": "f3192754-5060-45b5-8dd2-8edb4eb110bc",
   "metadata": {},
   "outputs": [
    {
     "name": "stdout",
     "output_type": "stream",
     "text": [
      "{1, 4, 36, 9, 16, 25}\n"
     ]
    }
   ],
   "source": [
    "#eliminating duplicates \n",
    "duplicates=[1,2,3,3,4,5,1,6]\n",
    "unique_squares={x**2 for x in duplicates}\n",
    "print(unique_squares)"
   ]
  },
  {
   "cell_type": "code",
   "execution_count": 10,
   "id": "00228464-35d0-49ba-b155-b02675c98882",
   "metadata": {},
   "outputs": [],
   "source": [
    "#string manipulation"
   ]
  },
  {
   "cell_type": "code",
   "execution_count": 13,
   "id": "dc0f5eec-645c-4280-8a29-f6f415194032",
   "metadata": {},
   "outputs": [
    {
     "name": "stdout",
     "output_type": "stream",
     "text": [
      "{'E', 'R', 'D', 'H', 'O', 'W', 'L'}\n"
     ]
    }
   ],
   "source": [
    "text=\"hello woorld\"\n",
    "uppercase_lettes={char.upper()for char in text if char.isalpha()}\n",
    "print(uppercase_lettes)"
   ]
  },
  {
   "cell_type": "code",
   "execution_count": null,
   "id": "4fc3ff6a-bc18-4dda-9280-682eba515ab5",
   "metadata": {},
   "outputs": [],
   "source": []
  }
 ],
 "metadata": {
  "kernelspec": {
   "display_name": "Python 3 (ipykernel)",
   "language": "python",
   "name": "python3"
  },
  "language_info": {
   "codemirror_mode": {
    "name": "ipython",
    "version": 3
   },
   "file_extension": ".py",
   "mimetype": "text/x-python",
   "name": "python",
   "nbconvert_exporter": "python",
   "pygments_lexer": "ipython3",
   "version": "3.12.4"
  }
 },
 "nbformat": 4,
 "nbformat_minor": 5
}
