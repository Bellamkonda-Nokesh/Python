{
 "cells": [
  {
   "cell_type": "code",
   "execution_count": 1,
   "id": "b7ae31c7-17e8-4ee0-a4d7-0d32ec5886ff",
   "metadata": {},
   "outputs": [
    {
     "name": "stdout",
     "output_type": "stream",
     "text": [
      "welcome to oops concept\n"
     ]
    }
   ],
   "source": [
    "class Python:\n",
    "    def fun(self):\n",
    "        print(\"welcome to oops concept\")\n",
    "pyt= Python()\n",
    "pyt.fun()"
   ]
  },
  {
   "cell_type": "code",
   "execution_count": 4,
   "id": "540714e9-4cfc-49c7-9d58-73d0b1a67fea",
   "metadata": {},
   "outputs": [
    {
     "name": "stdout",
     "output_type": "stream",
     "text": [
      "Name: AUDI Id: 20000000\n"
     ]
    }
   ],
   "source": [
    "class Car:\n",
    "    'Common_car'\n",
    "    car=0\n",
    "    def __init__(self,name,id):\n",
    "        self.name=name\n",
    "        self.id=id\n",
    "        Car.car+=1\n",
    "    def printcardata(self):\n",
    "        print(\"Name:\",self.name,\"Id:\",self.id)\n",
    "c=Car(\"AUDI\",20000000)\n",
    "c.printcardata()"
   ]
  },
  {
   "cell_type": "code",
   "execution_count": 8,
   "id": "d845e6b1-0368-4f00-adb1-55d8aa4d45d4",
   "metadata": {},
   "outputs": [
    {
     "name": "stdout",
     "output_type": "stream",
     "text": [
      "Name: Nokesh Age: 20 Salary: 1000000\n"
     ]
    }
   ],
   "source": [
    "class Employee:\n",
    "    def set_data(self,n,a,s):\n",
    "        self.name=n\n",
    "        self.age=a\n",
    "        self.salary=s\n",
    "    def display_data(self):\n",
    "        print(\"Name:\",self.name,\"Age:\",self.age,\"Salary:\",self.salary)\n",
    "e1=Employee()\n",
    "e1.set_data(\"Nokesh\",20,1000000)\n",
    "e1.display_data()\n"
   ]
  },
  {
   "cell_type": "code",
   "execution_count": 19,
   "id": "715fbeb4-87d5-40ec-9a59-b1fe6931a577",
   "metadata": {},
   "outputs": [
    {
     "name": "stdout",
     "output_type": "stream",
     "text": [
      "Birds Names: Eagle\n"
     ]
    }
   ],
   "source": [
    "class Birds:\n",
    "    def set_data(self,name):\n",
    "        self.name=name\n",
    "    def display_data(self):\n",
    "        print(\"Birds Names:\",self.name)\n",
    "b1=Birds()\n",
    "b1.set_data(\"Eagle\")\n",
    "b1.display_data()"
   ]
  },
  {
   "cell_type": "code",
   "execution_count": 34,
   "id": "2ec5831f-852d-4ac1-a171-06e98fe5bc5e",
   "metadata": {},
   "outputs": [
    {
     "name": "stdout",
     "output_type": "stream",
     "text": [
      "positive\n"
     ]
    }
   ],
   "source": [
    "class Number:\n",
    "    def __init__(self,n):\n",
    "       self.number=n\n",
    "\n",
    "    def check_num(self):\n",
    "       if self.number >0:\n",
    "           print(\"positive\")\n",
    "       else:\n",
    "           print(\"negative\")\n",
    "\n",
    "n1= Number(26)\n",
    "n1.check_num()"
   ]
  },
  {
   "cell_type": "code",
   "execution_count": 35,
   "id": "4a4b342f-6ea6-4888-af6e-09da79cec14f",
   "metadata": {},
   "outputs": [
    {
     "name": "stdout",
     "output_type": "stream",
     "text": [
      "hello\n",
      "10\n"
     ]
    }
   ],
   "source": [
    "class Test:\n",
    "    x=10\n",
    "    def __init__(self):\n",
    "        print(\"hello\")\n",
    "t=Test()\n",
    "print(Test.x)\n",
    "    "
   ]
  },
  {
   "cell_type": "code",
   "execution_count": 36,
   "id": "7a4d5c6c-70a1-4e6e-8f45-9852811e3f70",
   "metadata": {},
   "outputs": [
    {
     "name": "stdout",
     "output_type": "stream",
     "text": [
      "Total Cars: 3\n",
      "Name: AUDI Id: 2000000\n",
      "Name: BENZ Id: 3000000\n",
      "Name: BMW Id: 40000000\n"
     ]
    }
   ],
   "source": [
    "class Car:\n",
    "    'Common_car'\n",
    "    car=0\n",
    "    def __init__(self,name,id):\n",
    "        self.name=name\n",
    "        self.id=id\n",
    "        Car.car+=1\n",
    "    def printCardata(self):\n",
    "        print(\"Name:\",self.name,\"Id:\",self.id)\n",
    "c=Car(\"AUDI\",2000000)\n",
    "c1=Car(\"BENZ\",3000000)\n",
    "c2=Car(\"BMW\",40000000)\n",
    "print(\"Total Cars:\",Car.car)\n",
    "c.printCardata()\n",
    "c1.printCardata()\n",
    "c2.printCardata()"
   ]
  },
  {
   "cell_type": "code",
   "execution_count": 40,
   "id": "38062dff-2264-45d6-be3d-b1a7a294d942",
   "metadata": {},
   "outputs": [
    {
     "name": "stdout",
     "output_type": "stream",
     "text": [
      "Bike\n",
      "Car\n"
     ]
    }
   ],
   "source": [
    "class test:\n",
    "    def __init__(self):\n",
    "        self.variable='Car'\n",
    "        self.Change(self.variable)\n",
    "    def Change(self,var):\n",
    "        var='Bike'\n",
    "        print(var)\n",
    "\n",
    "obj=test()\n",
    "print(obj.variable)"
   ]
  },
  {
   "cell_type": "code",
   "execution_count": 1,
   "id": "205f15ec-5620-4d02-a53b-61fed167b181",
   "metadata": {},
   "outputs": [],
   "source": [
    "#Inheritance"
   ]
  },
  {
   "cell_type": "code",
   "execution_count": 3,
   "id": "b544a168-0f17-483c-870f-da966ae6594f",
   "metadata": {},
   "outputs": [
    {
     "name": "stdout",
     "output_type": "stream",
     "text": [
      "English is powerful\n",
      "100km\n"
     ]
    }
   ],
   "source": [
    "class Car:\n",
    "    def speed(self):\n",
    "        print(\"100km\")\n",
    "class Audi(Car):\n",
    "    def engine(self):\n",
    "        print(\"English is powerful\")\n",
    "c=Audi()\n",
    "c.engine()\n",
    "c.speed()"
   ]
  },
  {
   "cell_type": "code",
   "execution_count": 10,
   "id": "1243410f-14f9-4149-b2a0-af4c8fe33e21",
   "metadata": {},
   "outputs": [
    {
     "name": "stdout",
     "output_type": "stream",
     "text": [
      "bark\n",
      "meow\n"
     ]
    }
   ],
   "source": [
    "#Overriding\n",
    "class Animal:\n",
    "    def sound(self):\n",
    "        print(\"some generic sound\")\n",
    "class Dog(Animal):\n",
    "    def sound(self):\n",
    "        print(\"bark\")\n",
    "class Cat(Animal):\n",
    "    def sound(self):\n",
    "        print(\"meow\")\n",
    "dog=Dog()\n",
    "cat=Cat()\n",
    "dog.sound()\n",
    "cat.sound()"
   ]
  },
  {
   "cell_type": "code",
   "execution_count": 25,
   "id": "7c2484b6-d774-4e46-a21a-07bc5bb26543",
   "metadata": {},
   "outputs": [
    {
     "name": "stdin",
     "output_type": "stream",
     "text": [
      "Enter the first number 10\n",
      "Enter the second number 20\n"
     ]
    },
    {
     "name": "stdout",
     "output_type": "stream",
     "text": [
      "30\n",
      "-10\n",
      "200\n",
      "0.5\n"
     ]
    }
   ],
   "source": [
    "x=int(input(\"Enter the first number\"))\n",
    "y=int(input(\"Enter the second number\"))\n",
    "class calculate:\n",
    "    def sum(self,x,y):\n",
    "      self.x=x\n",
    "      self.y=y\n",
    "      print(self.x+self.y)\n",
    "\n",
    "    def sub(self,x,y):\n",
    "      self.x=x\n",
    "      self.y=y\n",
    "      print(self.x-self.y)\n",
    "\n",
    "class AdvanceCalculate(calculate):\n",
    "    def mul(self,x,y):\n",
    "      self.x=x\n",
    "      self.y=y\n",
    "      print(self.x*self.y)\n",
    "\n",
    "    def div(self,x,y):\n",
    "      self.x=x\n",
    "      self.y=y\n",
    "      print(self.x/self.y)\n",
    "c=AdvanceCalculate()\n",
    "c.sum(x,y)\n",
    "c.sub(x,y)\n",
    "c.mul(x,y)\n",
    "c.div(x,y)"
   ]
  },
  {
   "cell_type": "code",
   "execution_count": 1,
   "id": "f5e14696-e183-4cfb-8c59-d3f14d39526d",
   "metadata": {},
   "outputs": [
    {
     "name": "stdin",
     "output_type": "stream",
     "text": [
      " 10\n",
      " 2\n"
     ]
    },
    {
     "name": "stdout",
     "output_type": "stream",
     "text": [
      "Addition: 12\n",
      "Subtraction: 8\n",
      "Multiplication: 20\n",
      "Floor Division: 5\n"
     ]
    }
   ],
   "source": [
    "class Calculator:\n",
    "    def add(self,num1,num2):\n",
    "        self.num1=num1;\n",
    "        self.num2=num2;\n",
    "        return self.num1+self.num2\n",
    "    def sub(self,num1,num2):\n",
    "        return num1-num2;\n",
    "class AdvancedCalculator(Calculator):\n",
    "    def mul(self,num1,num2):\n",
    "        print(\"Multiplication:\",num1*num2)\n",
    "    def div(self,num1,num2):\n",
    "        return num1//num2;\n",
    "x=AdvancedCalculator()\n",
    "num1=int(input())\n",
    "num2=int(input())\n",
    "print(\"Addition: %d\"%(x.add(num1,num2)))\n",
    "print(\"Subtraction:\",x.sub(num1,num2))\n",
    "x.mul(num1,num2)\n",
    "print(\"Floor Division: %d\"%(x.div(num1,num2)))"
   ]
  },
  {
   "cell_type": "code",
   "execution_count": null,
   "id": "d8556f8e-fd36-4ba0-a4c7-370d04b7eafd",
   "metadata": {},
   "outputs": [],
   "source": []
  }
 ],
 "metadata": {
  "kernelspec": {
   "display_name": "Python 3 (ipykernel)",
   "language": "python",
   "name": "python3"
  },
  "language_info": {
   "codemirror_mode": {
    "name": "ipython",
    "version": 3
   },
   "file_extension": ".py",
   "mimetype": "text/x-python",
   "name": "python",
   "nbconvert_exporter": "python",
   "pygments_lexer": "ipython3",
   "version": "3.12.4"
  }
 },
 "nbformat": 4,
 "nbformat_minor": 5
}
