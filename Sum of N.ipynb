{
 "cells": [
  {
   "cell_type": "code",
   "execution_count": null,
   "id": "03e59d4e-a612-4320-a9e8-c8dfde962761",
   "metadata": {},
   "outputs": [],
   "source": []
  }
 ],
 "metadata": {
  "kernelspec": {
   "display_name": "",
   "name": ""
  },
  "language_info": {
   "name": ""
  }
 },
 "nbformat": 4,
 "nbformat_minor": 5
}
