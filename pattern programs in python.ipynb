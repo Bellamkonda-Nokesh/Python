{
 "cells": [
  {
   "cell_type": "code",
   "execution_count": 2,
   "id": "3e33c522-e0b7-43d8-90b5-7ca743dfe441",
   "metadata": {},
   "outputs": [
    {
     "name": "stdout",
     "output_type": "stream",
     "text": [
      "****\n",
      "****\n",
      "****\n",
      "****\n"
     ]
    }
   ],
   "source": [
    "#WAP to print the given pattern\n",
    "n=4\n",
    "for i in range(n):\n",
    "    print(\"****\")"
   ]
  },
  {
   "cell_type": "code",
   "execution_count": 15,
   "id": "227c92b4-53c4-434c-a21c-59533eb337ec",
   "metadata": {},
   "outputs": [
    {
     "name": "stdout",
     "output_type": "stream",
     "text": [
      "****\n",
      " ****\n",
      "  ****\n",
      "   ****\n"
     ]
    }
   ],
   "source": [
    "#WAP to print the given pattern\n",
    "n=4\n",
    "for i in range(n):\n",
    "    for j in range(i):\n",
    "        print(end=\" \")\n",
    "    print(\"****\")"
   ]
  },
  {
   "cell_type": "code",
   "execution_count": 48,
   "id": "9c2a403b-4e1a-4bf9-89c7-51f8aa729cc2",
   "metadata": {},
   "outputs": [
    {
     "name": "stdout",
     "output_type": "stream",
     "text": [
      "       * \n",
      "      * * \n",
      "     * * * \n",
      "    * * * * \n",
      "   * * * * * \n",
      "  * * * * * * \n"
     ]
    }
   ],
   "source": [
    "n=6\n",
    "for i in range(0,n):\n",
    "    print(\" \"*(n-i),end=\" \")\n",
    "    for j in range(0,i+1):\n",
    "        print(\"*\",end=\" \")\n",
    "    print()"
   ]
  },
  {
   "cell_type": "code",
   "execution_count": 3,
   "id": "9588158e-f862-4061-bc6c-2f9365a4163d",
   "metadata": {},
   "outputs": [
    {
     "name": "stdout",
     "output_type": "stream",
     "text": [
      "*\n",
      "**\n",
      "***\n",
      "****\n",
      "*****\n",
      "******\n"
     ]
    }
   ],
   "source": [
    "n=6\n",
    "for i in range(0,n):\n",
    "    print(\"\"*(n-i),end=\"\")\n",
    "    for j in range(0,i+1):\n",
    "        print(\"*\",end=\"\")\n",
    "    print()"
   ]
  },
  {
   "cell_type": "code",
   "execution_count": 5,
   "id": "4e2f133d-0574-4def-b245-e5c9c96ea56c",
   "metadata": {},
   "outputs": [
    {
     "name": "stdout",
     "output_type": "stream",
     "text": [
      "****\n",
      "****\n",
      "****\n",
      "****\n"
     ]
    }
   ],
   "source": [
    "n=4\n",
    "for i in range(n):\n",
    "    for j in range(1,n+1):\n",
    "        print(\"*\",end=\"\")\n",
    "    print()"
   ]
  },
  {
   "cell_type": "code",
   "execution_count": 14,
   "id": "cda4480c-a658-4e6d-829d-ee8ec88e94ea",
   "metadata": {},
   "outputs": [
    {
     "name": "stdout",
     "output_type": "stream",
     "text": [
      "      *\n",
      "     **\n",
      "    ***\n",
      "   ****\n",
      "  *****\n",
      " ******\n"
     ]
    }
   ],
   "source": [
    "n=6\n",
    "for i in range(0,n):\n",
    "    print(\" \"*(n-i),end=\"\")\n",
    "    for j in range(0,i+1):\n",
    "        print(\"*\",end=\"\")\n",
    "    print()\n"
   ]
  },
  {
   "cell_type": "code",
   "execution_count": 16,
   "id": "b618100e-623f-4002-a157-432682078df8",
   "metadata": {},
   "outputs": [
    {
     "name": "stdout",
     "output_type": "stream",
     "text": [
      "******\n",
      "******\n",
      "******\n",
      "******\n"
     ]
    }
   ],
   "source": [
    "n=4\n",
    "m=6\n",
    "for i in range(n):\n",
    "    for j in range(m):\n",
    "        print(\"*\",end=\"\")\n",
    "    print()"
   ]
  },
  {
   "cell_type": "code",
   "execution_count": 17,
   "id": "948ac577-d7bd-451a-bd68-e0e4087fd151",
   "metadata": {},
   "outputs": [
    {
     "name": "stdout",
     "output_type": "stream",
     "text": [
      "* * * * * * \n",
      "*         * \n",
      "*         * \n",
      "* * * * * * \n"
     ]
    }
   ],
   "source": [
    "n=4\n",
    "m=6\n",
    "for i in range(n):\n",
    "    for j in range(m):\n",
    "        if i==0 or i== n-1 or j==0 or j==m-1:\n",
    "            print(\"*\",end=\" \")\n",
    "        else:\n",
    "            print(' ',end=\" \")      \n",
    "    print()"
   ]
  },
  {
   "cell_type": "code",
   "execution_count": 20,
   "id": "613e517d-e2a0-4519-b153-660a395c0f86",
   "metadata": {},
   "outputs": [
    {
     "name": "stdout",
     "output_type": "stream",
     "text": [
      "* * * * \n",
      "*     * \n",
      "*     * \n",
      "* * * * \n"
     ]
    }
   ],
   "source": [
    "n=4\n",
    "m=n\n",
    "for i in range(n):\n",
    "    for j in range(m):\n",
    "        if i==0 or i== n-1 or j==0 or j==m-1:\n",
    "            print(\"*\",end=\" \")\n",
    "        else:\n",
    "            print(' ',end=\" \")      \n",
    "    print()"
   ]
  },
  {
   "cell_type": "code",
   "execution_count": null,
   "id": "35ca2a93-83b5-4051-9fe6-27030a6ab17c",
   "metadata": {},
   "outputs": [],
   "source": []
  }
 ],
 "metadata": {
  "kernelspec": {
   "display_name": "Python 3 (ipykernel)",
   "language": "python",
   "name": "python3"
  },
  "language_info": {
   "codemirror_mode": {
    "name": "ipython",
    "version": 3
   },
   "file_extension": ".py",
   "mimetype": "text/x-python",
   "name": "python",
   "nbconvert_exporter": "python",
   "pygments_lexer": "ipython3",
   "version": "3.12.4"
  }
 },
 "nbformat": 4,
 "nbformat_minor": 5
}
