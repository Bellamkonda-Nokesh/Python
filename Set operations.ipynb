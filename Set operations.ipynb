{
 "cells": [
  {
   "cell_type": "code",
   "execution_count": 1,
   "id": "af389c08-bb5e-4ef8-ad44-40c5472f912b",
   "metadata": {},
   "outputs": [],
   "source": [
    "#WAP to get the set elements from the user input and print the elements in the created set"
   ]
  },
  {
   "cell_type": "code",
   "execution_count": 6,
   "id": "ca1b1715-c44e-4837-9a99-7299889e836e",
   "metadata": {},
   "outputs": [
    {
     "name": "stdin",
     "output_type": "stream",
     "text": [
      " 26 12 10 6\n"
     ]
    },
    {
     "ename": "ValueError",
     "evalue": "invalid literal for int() with base 10: '26 12 10 6'",
     "output_type": "error",
     "traceback": [
      "\u001b[1;31m---------------------------------------------------------------------------\u001b[0m",
      "\u001b[1;31mValueError\u001b[0m                                Traceback (most recent call last)",
      "Cell \u001b[1;32mIn[6], line 2\u001b[0m\n\u001b[0;32m      1\u001b[0m value_set\u001b[38;5;241m=\u001b[39m\u001b[38;5;28mset\u001b[39m()\n\u001b[1;32m----> 2\u001b[0m n\u001b[38;5;241m=\u001b[39m\u001b[38;5;28mint\u001b[39m(\u001b[38;5;28minput\u001b[39m())\n\u001b[0;32m      3\u001b[0m \u001b[38;5;28;01mfor\u001b[39;00m i \u001b[38;5;129;01min\u001b[39;00m \u001b[38;5;28mrange\u001b[39m(n):\n\u001b[0;32m      4\u001b[0m     value_set\u001b[38;5;241m.\u001b[39madd(\u001b[38;5;28mint\u001b[39m(\u001b[38;5;28minput\u001b[39m()))\n",
      "\u001b[1;31mValueError\u001b[0m: invalid literal for int() with base 10: '26 12 10 6'"
     ]
    }
   ],
   "source": [
    "value_set=set()\n",
    "n=int(input())\n",
    "for i in range(n):\n",
    "    value_set.add(int(input()))"
   ]
  },
  {
   "cell_type": "code",
   "execution_count": 3,
   "id": "5affab9f-1c0b-407c-b005-2fb32da8a316",
   "metadata": {},
   "outputs": [
    {
     "data": {
      "text/plain": [
       "{6, 10, 12, 26}"
      ]
     },
     "execution_count": 3,
     "metadata": {},
     "output_type": "execute_result"
    }
   ],
   "source": [
    "value_set"
   ]
  },
  {
   "cell_type": "code",
   "execution_count": 4,
   "id": "ab702f25-4848-42f4-8e2e-32c501a0db70",
   "metadata": {},
   "outputs": [
    {
     "name": "stdout",
     "output_type": "stream",
     "text": [
      "26\n",
      "10\n",
      "12\n",
      "6\n"
     ]
    }
   ],
   "source": [
    "for i in value_set:\n",
    "    print(i)"
   ]
  },
  {
   "cell_type": "code",
   "execution_count": 5,
   "id": "8f1a0857-5a79-4205-bf97-11ba54cc0716",
   "metadata": {},
   "outputs": [],
   "source": [
    "#WAP to check whether the element got from the user is present in value set"
   ]
  },
  {
   "cell_type": "code",
   "execution_count": 7,
   "id": "de88f25a-7cee-411f-b1d9-f5606628fd94",
   "metadata": {},
   "outputs": [
    {
     "name": "stdin",
     "output_type": "stream",
     "text": [
      " 10\n"
     ]
    },
    {
     "name": "stdout",
     "output_type": "stream",
     "text": [
      "True\n"
     ]
    }
   ],
   "source": [
    "value_set={6,12,26,10}\n",
    "user_input=int(input())\n",
    "if user_input in value_set:\n",
    "    print(\"True\")\n",
    "else:\n",
    "    print(\"False\")"
   ]
  },
  {
   "cell_type": "code",
   "execution_count": 9,
   "id": "44b54caf-a270-4dc8-a4f7-57881baff3c3",
   "metadata": {},
   "outputs": [],
   "source": [
    "#WAP to find the length of the set"
   ]
  },
  {
   "cell_type": "code",
   "execution_count": 10,
   "id": "9f498e4c-1615-448c-8bbd-f6a690837069",
   "metadata": {},
   "outputs": [
    {
     "data": {
      "text/plain": [
       "4"
      ]
     },
     "execution_count": 10,
     "metadata": {},
     "output_type": "execute_result"
    }
   ],
   "source": [
    "len(value_set)"
   ]
  },
  {
   "cell_type": "code",
   "execution_count": 11,
   "id": "c203b4ce-9b48-4291-89d1-b8469177f176",
   "metadata": {},
   "outputs": [],
   "source": [
    "#Union of Two sets"
   ]
  },
  {
   "cell_type": "code",
   "execution_count": 8,
   "id": "14d752a8-cb2f-49f8-80f8-59b7b8ecea95",
   "metadata": {},
   "outputs": [],
   "source": [
    "month1_set={\"jan\",\"feb\",\"dec\",\"mar\"}\n",
    "month2_set={\"may\",\"jan\",\"oct\",\"mar\"}"
   ]
  },
  {
   "cell_type": "code",
   "execution_count": 9,
   "id": "9d9b9466-8dd3-4c4c-aead-bb61af14050d",
   "metadata": {},
   "outputs": [
    {
     "data": {
      "text/plain": [
       "{'dec', 'feb', 'jan', 'mar'}"
      ]
     },
     "execution_count": 9,
     "metadata": {},
     "output_type": "execute_result"
    }
   ],
   "source": [
    "month1_set"
   ]
  },
  {
   "cell_type": "code",
   "execution_count": 10,
   "id": "e177e4b2-d2dc-4717-9789-2ce99ee7074a",
   "metadata": {},
   "outputs": [
    {
     "data": {
      "text/plain": [
       "{'jan', 'mar', 'may', 'oct'}"
      ]
     },
     "execution_count": 10,
     "metadata": {},
     "output_type": "execute_result"
    }
   ],
   "source": [
    "month2_set"
   ]
  },
  {
   "cell_type": "code",
   "execution_count": 11,
   "id": "398993c9-d33f-4cc6-9733-4c17d43d1ab2",
   "metadata": {},
   "outputs": [],
   "source": [
    "month=month1_set | month2_set"
   ]
  },
  {
   "cell_type": "code",
   "execution_count": 12,
   "id": "57401ca2-242f-435c-b1fb-6f01c5e8a833",
   "metadata": {},
   "outputs": [
    {
     "data": {
      "text/plain": [
       "{'dec', 'feb', 'jan', 'mar', 'may', 'oct'}"
      ]
     },
     "execution_count": 12,
     "metadata": {},
     "output_type": "execute_result"
    }
   ],
   "source": [
    "month"
   ]
  },
  {
   "cell_type": "code",
   "execution_count": 13,
   "id": "f3c38ba8-5cb7-4244-934a-f27153bafc45",
   "metadata": {},
   "outputs": [],
   "source": [
    "month_common=month1_set.union(month2_set)"
   ]
  },
  {
   "cell_type": "code",
   "execution_count": 14,
   "id": "c22c5054-6ddf-4232-a5fe-5d3048a819bc",
   "metadata": {},
   "outputs": [
    {
     "data": {
      "text/plain": [
       "{'dec', 'feb', 'jan', 'mar', 'may', 'oct'}"
      ]
     },
     "execution_count": 14,
     "metadata": {},
     "output_type": "execute_result"
    }
   ],
   "source": [
    "month_common"
   ]
  },
  {
   "cell_type": "code",
   "execution_count": 15,
   "id": "3c7de228-d630-4c54-b208-1b163ffeb84a",
   "metadata": {},
   "outputs": [],
   "source": [
    "#Intersection of two sets"
   ]
  },
  {
   "cell_type": "code",
   "execution_count": 16,
   "id": "53e0b03e-20bb-405b-858b-5f1640f4de89",
   "metadata": {},
   "outputs": [],
   "source": [
    "month_common=month1_set.intersection(month2_set)"
   ]
  },
  {
   "cell_type": "code",
   "execution_count": 17,
   "id": "7a1f441b-31cb-45b0-8b6a-3f3da348fe39",
   "metadata": {},
   "outputs": [
    {
     "data": {
      "text/plain": [
       "{'jan', 'mar'}"
      ]
     },
     "execution_count": 17,
     "metadata": {},
     "output_type": "execute_result"
    }
   ],
   "source": [
    "month_common"
   ]
  },
  {
   "cell_type": "code",
   "execution_count": 18,
   "id": "ac91c7e7-6de3-4cb0-ac95-aa1d9a3e2059",
   "metadata": {},
   "outputs": [],
   "source": [
    "common=month1_set & month2_set"
   ]
  },
  {
   "cell_type": "code",
   "execution_count": 19,
   "id": "6ff45132-ec6e-4c2f-becc-c26098846176",
   "metadata": {},
   "outputs": [
    {
     "data": {
      "text/plain": [
       "{'jan', 'mar'}"
      ]
     },
     "execution_count": 19,
     "metadata": {},
     "output_type": "execute_result"
    }
   ],
   "source": [
    "common"
   ]
  },
  {
   "cell_type": "code",
   "execution_count": 20,
   "id": "d978b143-2cda-4a24-94ce-215fe524c001",
   "metadata": {},
   "outputs": [],
   "source": [
    "#Difference of two sets"
   ]
  },
  {
   "cell_type": "code",
   "execution_count": 21,
   "id": "0bf97572-04a7-44f3-a88f-8a7827e6f1fd",
   "metadata": {},
   "outputs": [],
   "source": [
    "diff=(month1_set - month2_set)"
   ]
  },
  {
   "cell_type": "code",
   "execution_count": 22,
   "id": "7443b51f-439a-41a2-bde6-9a604ac48bfb",
   "metadata": {},
   "outputs": [
    {
     "data": {
      "text/plain": [
       "{'dec', 'feb'}"
      ]
     },
     "execution_count": 22,
     "metadata": {},
     "output_type": "execute_result"
    }
   ],
   "source": [
    "diff"
   ]
  },
  {
   "cell_type": "code",
   "execution_count": 23,
   "id": "f537efea-28ef-4adf-8b2f-849395e3909e",
   "metadata": {},
   "outputs": [],
   "source": [
    "x=month1_set.difference(month2_set)"
   ]
  },
  {
   "cell_type": "code",
   "execution_count": 24,
   "id": "7582c06a-e661-4abc-954b-e30c014493b9",
   "metadata": {},
   "outputs": [
    {
     "data": {
      "text/plain": [
       "{'dec', 'feb'}"
      ]
     },
     "execution_count": 24,
     "metadata": {},
     "output_type": "execute_result"
    }
   ],
   "source": [
    "x"
   ]
  },
  {
   "cell_type": "code",
   "execution_count": 25,
   "id": "28f84239-cdbb-4af2-b50a-688b65b74eee",
   "metadata": {},
   "outputs": [],
   "source": [
    "#SET Comparisons"
   ]
  },
  {
   "cell_type": "code",
   "execution_count": 26,
   "id": "004e70da-f9f2-4b15-a23f-0749728f516e",
   "metadata": {},
   "outputs": [],
   "source": [
    "month1_set={\"jan\",\"feb\",\"dec\",\"mar\"}\n",
    "month2_set={\"jan\",\"feb\"}"
   ]
  },
  {
   "cell_type": "code",
   "execution_count": 27,
   "id": "a2f7bbfc-2cb8-4832-95e2-57f45ce10c7b",
   "metadata": {},
   "outputs": [
    {
     "data": {
      "text/plain": [
       "True"
      ]
     },
     "execution_count": 27,
     "metadata": {},
     "output_type": "execute_result"
    }
   ],
   "source": [
    "month1_set > month2_set"
   ]
  },
  {
   "cell_type": "code",
   "execution_count": 28,
   "id": "ac804940-51bb-4b23-afba-6e9aa84948dd",
   "metadata": {},
   "outputs": [
    {
     "name": "stdout",
     "output_type": "stream",
     "text": [
      "True\n",
      "False\n",
      "False\n"
     ]
    }
   ],
   "source": [
    "print(month1_set>month2_set)\n",
    "print(month1_set<month2_set)\n",
    "print(month1_set==month2_set)"
   ]
  },
  {
   "cell_type": "code",
   "execution_count": null,
   "id": "95d8b46c-ae7e-4074-9277-3b6faf05005d",
   "metadata": {},
   "outputs": [],
   "source": [
    "#Expalin the frozen sets"
   ]
  }
 ],
 "metadata": {
  "kernelspec": {
   "display_name": "Python 3 (ipykernel)",
   "language": "python",
   "name": "python3"
  },
  "language_info": {
   "codemirror_mode": {
    "name": "ipython",
    "version": 3
   },
   "file_extension": ".py",
   "mimetype": "text/x-python",
   "name": "python",
   "nbconvert_exporter": "python",
   "pygments_lexer": "ipython3",
   "version": "3.12.4"
  }
 },
 "nbformat": 4,
 "nbformat_minor": 5
}
